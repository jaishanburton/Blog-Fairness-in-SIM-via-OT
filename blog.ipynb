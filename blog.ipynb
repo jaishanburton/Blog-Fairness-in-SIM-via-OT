{
 "cells": [
  {
   "cell_type": "markdown",
   "metadata": {},
   "source": [
    "# Fairness in Social Influence Maximization via Optimal Transport  \n",
    "### Authors: Guillaume MARIN-BERTIN & Jaishan BURTON ELMO  \n",
    "\n",
    "**Table of Contents**  \n",
    "- 1. [Introduction](#introduction)  \n",
    "- 2. [Related Work](#related-work)  \n",
    "- 3. [Fairness via Optimal Transport](#fairness-via-optimal-transport)  \n",
    "- 4. [Evaluation](#evaluation)  \n",
    "- 5. [Results](#results)  \n",
    "- 6. [Reproducibility](#reproducibility)  \n",
    "- 7. [Conclusion](#conclusion)  \n",
    "- [Appendix](#appendix)  \n",
    "- [References](#references)  \n",
    "\n",
    "This is a blog post about the article “Fairness in Social Influence Maximization via Optimal Transport” published by Shubham Chowdhary et al. in 2024 and available [**here**](https://neurips.cc/virtual/2024/poster/94521).\n",
    "\n",
    "### [1. Introduction](#introduction)  \n",
    "Social networks have become a crucial vector for spreading information, influencing public opinion, and promoting products or ideas. In this context, the **Influence Maximization (IM)** problem aims to identify the most strategic individuals to initiate a diffusion process and maximize its reach. Applications of IM range from viral marketing to public health campaigns and disinformation detection.  \n",
    "\n",
    "However, traditional IM algorithms focus solely on maximizing the number of influenced individuals without considering fairness. This can lead to unequal information diffusion, where certain groups are systematically disadvantaged. Addressing this issue is crucial, particularly in sensitive applications such as political campaigns, healthcare awareness, and social justice movements.  \n",
    "\n",
    "In this blog post, we introduce a new fairness-aware approach to Influence Maximization based on **Optimal Transport (OT)**. Unlike existing methods, our approach ensures that the information spreads in an equitable manner across different demographic groups.\n",
    "\n",
    "### [2. Related Work](#related-work)\n",
    "\n",
    "The problem of Social Influence Maximization (SIM) has been studied in the literature, with research efforts focusing on optimizing information diffusion in social networks. Existing approaches to SIM can be broadly categorized into three main classes: greedy-based heuristics, fairness-aware methods, and optimal transport-based approaches.  \n",
    "\n",
    "**Greedy-based heuristics**\n",
    "Early works on SIM, such as the seminal study by Kempe et al. (2003), formulated the problem as a submodular optimization task, demonstrating that a greedy selection strategy provides a \\((1 - 1/e)\\)-approximation guarantee for influence maximization. Subsequent research has explored heuristic-based strategies, including degree centrality, PageRank, and community-based seed selection, to improve computational efficiency. While effective in maximizing total outreach, these methods remain agnostic to demographic fairness, often reinforcing structural inequalities in social networks.  \n",
    "\n",
    "**Fairness-aware methods**  \n",
    "Recent studies have introduced fairness constraints in SIM to ensure that information spreads equitably across different demographic groups. Several fairness metrics have been proposed:  \n",
    "\n",
    "- Equity-based fairness (*Stoica et al., 2020*) ensures that, in expectation, the same proportion of users in each group is reached.  \n",
    "- Max-min fairness (*Fish et al., 2019; Zhu et al., 2019*) maximizes the minimum probability of a group receiving information to prevent exclusion.  \n",
    "- Welfare-based approaches (*Rahmattalabi et al., 2021*) optimize outreach under social welfare constraints, while diversity-aware methods (*Tsang et al., 2019*) seek to prevent disproportionate advantages for certain groups.  \n",
    "\n",
    "However, a key limitation of these methods is their reliance on marginal outreach probabilities, which fail to capture the stochastic variability of diffusion. As a result, unfair scenarios—where one group dominates in some cases and is entirely excluded in others—can still be classified as fair under existing metrics.  \n",
    "\n",
    "**Fairness via Optimal Transport**  \n",
    "While existing fairness-aware methods aim to mitigate disparities in influence spread, they often compromise either efficiency or theoretical guarantees. In contrast, our approach introduces a fairness-aware framework based on Optimal Transport (OT), which offers a principled way to measure and enforce fairness in social influence maximization. \n",
    "\n",
    "In this context, our method defines a new fairness metric, Mutual Fairness, and proposes Stochastic Seed Selection Descent (S3D), an optimization algorithm that balances fairness and influence spread. Experimental results demonstrate that our approach achieves a superior trade-off between fairness and efficiency compared to existing techniques, offering a novel perspective on fairness in social network diffusion."
   ]
  }
 ],
 "metadata": {
  "language_info": {
   "name": "python"
  }
 },
 "nbformat": 4,
 "nbformat_minor": 2
}
