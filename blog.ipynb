{
 "cells": [
  {
   "cell_type": "markdown",
   "metadata": {},
   "source": [
    "# Fairness in Social Influence Maximization via Optimal Transport  \n",
    "### Authors: Guillaume MARIN-BERTIN & Jaishan BURTON ELMO  \n",
    "\n",
    "**Table of Contents**  \n",
    "- 1. [Introduction](#introduction)  \n",
    "- 2. [Related Work](#related-work)  \n",
    "- 3. [Fairness via Optimal Transport](#fairness-via-optimal-transport)  \n",
    "- 4. [Evaluation](#evaluation)  \n",
    "- 5. [Results](#results)  \n",
    "- 6. [Reproducibility](#reproducibility)  \n",
    "- 7. [Conclusion](#conclusion)  \n",
    "- [Appendix](#appendix)  \n",
    "- [References](#references)  \n",
    "\n",
    "This is a blog post about the article “Fairness in Social Influence Maximization via Optimal Transport” published by Shubham Chowdhary et al. in 2024 and available [**here**](https://neurips.cc/virtual/2024/poster/94521).\n",
    "\n",
    "### [1. Introduction](#introduction)  \n",
    "Social networks have become a crucial vector for spreading information, influencing public opinion, and promoting products or ideas. In this context, the **Influence Maximization (IM)** problem aims to identify the most strategic individuals to initiate a diffusion process and maximize its reach. Applications of IM range from viral marketing to public health campaigns and disinformation detection.  \n",
    "\n",
    "However, traditional IM algorithms focus solely on maximizing the number of influenced individuals without considering fairness. This can lead to unequal information diffusion, where certain groups are systematically disadvantaged. Addressing this issue is crucial, particularly in sensitive applications such as political campaigns, healthcare awareness, and social justice movements.  \n",
    "\n",
    "In this blog post, we introduce a new fairness-aware approach to Influence Maximization based on **Optimal Transport (OT)**. Unlike existing methods, our approach ensures that the information spreads in an equitable manner across different demographic groups.\n",
    "\n",
    "### [2. Related Work](#related-work)\n",
    "\n",
    "The Social Influence Maximization (SIM) problem has been widely studied, with research efforts primarily focused on optimizing information diffusion in social networks. Existing approaches can be broadly classified into three categories: greedy-based heuristics, fairness-aware methods, and optimal transport-based approaches. \n",
    "\n",
    "**Greedy-based heuristics**\n",
    "Early works, such as Kempe et al. (2003), formulated SIM as a submodular optimization problem, showing that a greedy strategy achieves a \\((1 - 1/e)\\)-approximation guarantee. Later methods leveraged heuristics like degree centrality, PageRank, and community-based seed selection to improve efficiency. However, these approaches do not account for fairness, potentially reinforcing structural biases in social networks.\n",
    "\n",
    "**Fairness-aware methods**  \n",
    "To address fairness concerns, recent studies introduced constraints ensuring more equitable information diffusion across demographic groups. Several fairness criteria have been explored: \n",
    "\n",
    "- Equity-based fairness (*Stoica et al., 2020*) ensures that, in expectation, the same proportion of users in each group is reached.  \n",
    "- Max-min fairness (*Fish et al., 2019; Zhu et al., 2019*) maximizes the minimum probability of a group receiving information to prevent exclusion.  \n",
    "- Welfare-based approaches (*Rahmattalabi et al., 2021*) optimize outreach under social welfare constraints, while diversity-aware methods (*Tsang et al., 2019*) seek to prevent disproportionate advantages for certain groups.  \n",
    "\n",
    "However, these approaches rely on marginal outreach probabilities, which fail to capture stochastic variations in diffusion. As a result, they can misclassify unfair scenarios as fair, despite significant disparities in influence spread.  \n",
    "\n",
    "**Fairness via Optimal Transport**  \n",
    "To overcome these limitations, we propose a fairness-aware framework based on Optimal Transport (OT). This method introduces a new Mutual Fairness metric and the Stochastic Seed Selection Descent (S3D) algorithm, ensuring a balanced trade-off between fairness and efficiency. Unlike prior methods, our approach explicitly accounts for joint probability distributions, providing a more robust measure of fairness in influence propagation."
   ]
  }
 ],
 "metadata": {
  "language_info": {
   "name": "python"
  }
 },
 "nbformat": 4,
 "nbformat_minor": 2
}
